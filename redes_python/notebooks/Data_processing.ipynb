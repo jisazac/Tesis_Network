{
 "cells": [
  {
   "cell_type": "markdown",
   "metadata": {
    "collapsed": true
   },
   "source": [
    "Extraccion de datos automatica de formato excel"
   ]
  },
  {
   "cell_type": "code",
   "execution_count": 17,
   "metadata": {
    "collapsed": false
   },
   "outputs": [],
   "source": [
    "import pandas as pd\n",
    "import os\n",
    "os.chdir('C:\\\\Users\\\\usuario\\\\Desktop\\\\Maestr\\xedas\\\\Maestria finanzas eafit\\\\Tesis_Network')\n",
    "#C:\\\\Users\\\\usuario\\\\Desktop\\\\Maestr\\xedas\\\\Maestria finanzas eafit\\\\Tesis_Network\\\\"
   ]
  },
  {
   "cell_type": "code",
   "execution_count": 18,
   "metadata": {
    "collapsed": false
   },
   "outputs": [],
   "source": [
    "path_data=\"C:\\\\Users\\\\usuario\\\\Desktop\\\\Maestr\\xedas\\\\Maestria finanzas eafit\\\\Tesis_Network\\\\data\\\\\"\n",
    "pais=\"COLOMBIA.xlsx\"\n",
    "path_colombia=path_data+pais"
   ]
  },
  {
   "cell_type": "code",
   "execution_count": 19,
   "metadata": {
    "collapsed": false
   },
   "outputs": [],
   "source": [
    "#Lista de empresas\n",
    "companies=[\"BANCOLOMBIA\",\"NUTRESA\",\"ECOPETROL\",\"GRUPOSURA\",\"CEMARGOS\"]\n",
    "mapeo={\"FIDUCIARIA BANCOLOMBIA SA\":\"BANCOLOMBIA\",\"ECOPETROL ADR PROGRAM\":\"ECOPETROL\",\"GRUPO NUTRESA SA\":\"NUTRESA\",\"GRUPO ARGOS SA\":\"CEMARGOS\"}"
   ]
  },
  {
   "cell_type": "code",
   "execution_count": 20,
   "metadata": {
    "collapsed": false
   },
   "outputs": [],
   "source": [
    "m= pd.read_excel(path_colombia,sheetname=companies,usecols=['Holder Name','Position','Latest Chg','Country'])"
   ]
  },
  {
   "cell_type": "code",
   "execution_count": 24,
   "metadata": {
    "collapsed": false
   },
   "outputs": [
    {
     "data": {
      "text/plain": [
       "{'BANCOLOMBIA': [(nan, 'BANCOLOMBIA'),\n",
       "  (nan, 'BANCOLOMBIA'),\n",
       "  (nan, 'BANCOLOMBIA'),\n",
       "  (nan, 'BANCOLOMBIA'),\n",
       "  (nan, 'BANCOLOMBIA'),\n",
       "  (nan, 'BANCOLOMBIA')],\n",
       " 'CEMARGOS': [('CEMARGOS', 'CEMARGOS'),\n",
       "  (nan, 'CEMARGOS'),\n",
       "  (nan, 'CEMARGOS'),\n",
       "  (nan, 'CEMARGOS'),\n",
       "  (nan, 'CEMARGOS'),\n",
       "  (nan, 'CEMARGOS'),\n",
       "  (nan, 'CEMARGOS'),\n",
       "  ('BANCOLOMBIA', 'CEMARGOS'),\n",
       "  (nan, 'CEMARGOS'),\n",
       "  (nan, 'CEMARGOS'),\n",
       "  (nan, 'CEMARGOS'),\n",
       "  (nan, 'CEMARGOS'),\n",
       "  (nan, 'CEMARGOS'),\n",
       "  (nan, 'CEMARGOS'),\n",
       "  (nan, 'CEMARGOS'),\n",
       "  (nan, 'CEMARGOS')],\n",
       " 'ECOPETROL': [(nan, 'ECOPETROL'),\n",
       "  ('ECOPETROL', 'ECOPETROL'),\n",
       "  (nan, 'ECOPETROL'),\n",
       "  (nan, 'ECOPETROL'),\n",
       "  (nan, 'ECOPETROL'),\n",
       "  ('BANCOLOMBIA', 'ECOPETROL'),\n",
       "  (nan, 'ECOPETROL'),\n",
       "  (nan, 'ECOPETROL'),\n",
       "  (nan, 'ECOPETROL'),\n",
       "  (nan, 'ECOPETROL')],\n",
       " 'GRUPOSURA': [('CEMARGOS', 'GRUPOSURA'),\n",
       "  ('NUTRESA', 'GRUPOSURA'),\n",
       "  (nan, 'GRUPOSURA'),\n",
       "  (nan, 'GRUPOSURA'),\n",
       "  ('BANCOLOMBIA', 'GRUPOSURA'),\n",
       "  (nan, 'GRUPOSURA'),\n",
       "  (nan, 'GRUPOSURA'),\n",
       "  (nan, 'GRUPOSURA'),\n",
       "  (nan, 'GRUPOSURA'),\n",
       "  (nan, 'GRUPOSURA'),\n",
       "  (nan, 'GRUPOSURA'),\n",
       "  (nan, 'GRUPOSURA')],\n",
       " 'NUTRESA': [(nan, 'NUTRESA'),\n",
       "  ('CEMARGOS', 'NUTRESA'),\n",
       "  (nan, 'NUTRESA'),\n",
       "  (nan, 'NUTRESA'),\n",
       "  (nan, 'NUTRESA'),\n",
       "  (nan, 'NUTRESA'),\n",
       "  (nan, 'NUTRESA'),\n",
       "  (nan, 'NUTRESA'),\n",
       "  (nan, 'NUTRESA'),\n",
       "  (nan, 'NUTRESA'),\n",
       "  (nan, 'NUTRESA'),\n",
       "  (nan, 'NUTRESA'),\n",
       "  (nan, 'NUTRESA')]}"
      ]
     },
     "execution_count": 24,
     "metadata": {},
     "output_type": "execute_result"
    }
   ],
   "source": [
    "n={}\n",
    "for name, item in m.items():\n",
    "    item=item[(item[\"Country\"]==\"Colombia\")|(item[\"Country\"]==\"Peru\")|(item[\"Country\"]==\"Chile\")|(item[\"Country\"]==\"Mexico\")]\n",
    "    item[\"Node\"]=name\n",
    "    item[\"Holder Name\"]=item[\"Holder Name\"].map(mapeo)\n",
    "    m[name]=item\n",
    "    n[name]=zip(item[\"Holder Name\"],item[\"Node\"])\n",
    "    \n",
    "n"
   ]
  },
  {
   "cell_type": "code",
   "execution_count": 14,
   "metadata": {
    "collapsed": false
   },
   "outputs": [
    {
     "ename": "NameError",
     "evalue": "name 'BANCOLOMBIA' is not defined",
     "traceback": [
      "\u001b[0;31m---------------------------------------------------------------------------\u001b[0m",
      "\u001b[0;31mNameError\u001b[0m                                 Traceback (most recent call last)",
      "\u001b[0;32m<ipython-input-14-97cf38406e7c>\u001b[0m in \u001b[0;36m<module>\u001b[0;34m()\u001b[0m\n\u001b[0;32m----> 1\u001b[0;31m \u001b[0mBANCOLOMBIA\u001b[0m\u001b[1;33m\u001b[0m\u001b[0m\n\u001b[0m",
      "\u001b[0;31mNameError\u001b[0m: name 'BANCOLOMBIA' is not defined"
     ],
     "output_type": "error"
    }
   ],
   "source": [
    ""
   ]
  },
  {
   "cell_type": "code",
   "execution_count": 8,
   "metadata": {
    "collapsed": false
   },
   "outputs": [],
   "source": [
    "import networkx as nx\n",
    "import matplotlib.pyplot as plt\n",
    "G=nx.Graph()"
   ]
  },
  {
   "cell_type": "code",
   "execution_count": 33,
   "metadata": {
    "collapsed": false
   },
   "outputs": [],
   "source": [
    "G.add_nodes_from(companies)\n",
    "G.add_edges_from(n[\"BANCOLOMBIA\"])\n",
    "G.add_edges_from(n[\"CEMARGOS\"])\n",
    "G.add_edges_from(n[\"ECOPETROL\"])\n",
    "G.add_edges_from(n[\"NUTRESA\"])\n",
    "G.add_edges_from(n[\"GRUPOSURA\"])"
   ]
  },
  {
   "cell_type": "code",
   "execution_count": 37,
   "metadata": {
    "collapsed": false
   },
   "outputs": [
    {
     "data": {
      "image/png": "[encoded data removed]",
      "text/plain": [
       "<matplotlib.figure.Figure at 0x12aae3d0>"
      ]
     },
     "metadata": {},
     "output_type": "display_data"
    }
   ],
   "source": [
    "nx.draw_circular(G,with_labels=True)\n",
    "plt.show()"
   ]
  },
  {
   "cell_type": "code",
   "execution_count": null,
   "metadata": {
    "collapsed": false
   },
   "outputs": [],
   "source": [
    ""
   ]
  },
  {
   "cell_type": "code",
   "execution_count": null,
   "metadata": {
    "collapsed": true
   },
   "outputs": [],
   "source": [
    ""
   ]
  }
 ],
 "metadata": {
  "kernelspec": {
   "display_name": "Python 2",
   "language": "python",
   "name": "python2"
  },
  "language_info": {
   "codemirror_mode": {
    "name": "ipython",
    "version": 2.0
   },
   "file_extension": ".py",
   "mimetype": "text/x-python",
   "name": "python",
   "nbconvert_exporter": "python",
   "pygments_lexer": "ipython2",
   "version": "2.7.13"
  }
 },
 "nbformat": 4,
 "nbformat_minor": 0
}